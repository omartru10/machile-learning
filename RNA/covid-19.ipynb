{
  "nbformat": 4,
  "nbformat_minor": 0,
  "metadata": {
    "colab": {
      "name": "Untitled2.ipynb",
      "provenance": [],
      "toc_visible": true,
      "authorship_tag": "ABX9TyO3XoGu9UMsD2ObH2KvgJ/X",
      "include_colab_link": true
    },
    "kernelspec": {
      "name": "python3",
      "display_name": "Python 3"
    },
    "language_info": {
      "name": "python"
    }
  },
  "cells": [
    {
      "cell_type": "markdown",
      "metadata": {
        "id": "view-in-github",
        "colab_type": "text"
      },
      "source": [
        "<a href=\"https://colab.research.google.com/github/omartru10/machile-learning/blob/main/RNA/covid-19.ipynb\" target=\"_parent\"><img src=\"https://colab.research.google.com/assets/colab-badge.svg\" alt=\"Open In Colab\"/></a>"
      ]
    },
    {
      "cell_type": "code",
      "execution_count": 1,
      "metadata": {
        "id": "IwSemX6gCdkE"
      },
      "outputs": [],
      "source": [
        "import numpy as np\n",
        "import matplotlib.pyplot as plt\n",
        "import pandas as pd"
      ]
    },
    {
      "cell_type": "code",
      "source": [
        "#df = pd.read_csv('https://raw.githubusercontent.com/lrjoshi/webpage/master/public/post/c159s.csv')\n",
        "df = pd.read_csv(\"https://raw.githubusercontent.com/mn-ariel/course-machile-learning/main/datasets/cars_price.csv\")\n",
        "df.head()"
      ],
      "metadata": {
        "id": "rxwT-oryDT-Q"
      },
      "execution_count": null,
      "outputs": []
    }
  ]
}